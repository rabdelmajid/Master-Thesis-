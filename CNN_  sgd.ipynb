{
 "cells": [
  {
   "cell_type": "code",
   "execution_count": 1,
   "metadata": {},
   "outputs": [
    {
     "name": "stderr",
     "output_type": "stream",
     "text": [
      "Using TensorFlow backend.\n"
     ]
    }
   ],
   "source": [
    "from __future__ import print_function\n",
    "import os\n",
    "import sys\n",
    "import numpy as np\n",
    "from keras.preprocessing.text import Tokenizer\n",
    "from keras.preprocessing.sequence import pad_sequences\n",
    "from keras.utils import to_categorical\n",
    "from keras.layers import Dense, Input, GlobalMaxPooling1D\n",
    "from keras.layers import Conv1D, MaxPooling1D, Embedding\n",
    "from keras.models import Model\n",
    "from keras.initializers import Constant\n",
    "from keras.utils import plot_model\n",
    "from IPython.display import SVG\n",
    "from keras.utils import model_to_dot\n"
   ]
  },
  {
   "cell_type": "code",
   "execution_count": 2,
   "metadata": {},
   "outputs": [
    {
     "name": "stdout",
     "output_type": "stream",
     "text": [
      "Indexing word vectors.\n"
     ]
    }
   ],
   "source": [
    "BASE_DIR = ''\n",
    "GLOVE_DIR = os.path.join(BASE_DIR, '/media/root/par2/glove.6B')\n",
    "TEXT_DATA_DIR = os.path.join(BASE_DIR, '/media/root/par2/20_newsgroup')\n",
    "MAX_SEQUENCE_LENGTH = 1000\n",
    "MAX_NUM_WORDS = 20000\n",
    "EMBEDDING_DIM = 100\n",
    "VALIDATION_SPLIT = 0.25\n",
    "print('Indexing word vectors.')"
   ]
  },
  {
   "cell_type": "code",
   "execution_count": 3,
   "metadata": {},
   "outputs": [
    {
     "name": "stdout",
     "output_type": "stream",
     "text": [
      "Found 400000 word vectors.\n"
     ]
    }
   ],
   "source": [
    "embeddings_index = {}\n",
    "with open(os.path.join(GLOVE_DIR, '/media/root/par2/glove.6B/glove.6B.100d.txt')) as f:\n",
    " for line in f:\n",
    "     \n",
    "        word, coefs = line.split(\" \", 1)\n",
    "        coefs = np.fromstring(coefs, 'f', sep=' ')\n",
    "        embeddings_index[word] = coefs\n",
    "print('Found %s word vectors.' % len(embeddings_index))"
   ]
  },
  {
   "cell_type": "code",
   "execution_count": 4,
   "metadata": {},
   "outputs": [
    {
     "name": "stdout",
     "output_type": "stream",
     "text": [
      "Processing text dataset\n",
      "Found 19997 texts.\n"
     ]
    }
   ],
   "source": [
    "print('Processing text dataset')\n",
    "\n",
    "texts = []  # list of text samples\n",
    "labels_index = {}  # dictionary mapping label name to numeric id\n",
    "labels = []  # list of label ids\n",
    "for name in sorted(os.listdir(TEXT_DATA_DIR)):\n",
    "    path = os.path.join(TEXT_DATA_DIR, name)\n",
    "    if os.path.isdir(path):\n",
    "        label_id = len(labels_index)\n",
    "        labels_index[name] = label_id\n",
    "        for fname in sorted(os.listdir(path)):\n",
    "            if fname.isdigit():\n",
    "                fpath = os.path.join(path, fname)\n",
    "                args = {} if sys.version_info < (3,) else {'encoding': 'latin-1'}\n",
    "                with open(fpath, **args) as f:\n",
    "                    t = f.read()\n",
    "                    i = t.find('\\n\\n')  # skip header\n",
    "                    if 0 < i:\n",
    "                        t = t[i:]\n",
    "                    texts.append(t)\n",
    "                labels.append(label_id)\n",
    "\n",
    "print('Found %s texts.' % len(texts))"
   ]
  },
  {
   "cell_type": "code",
   "execution_count": 5,
   "metadata": {},
   "outputs": [
    {
     "name": "stdout",
     "output_type": "stream",
     "text": [
      "Found 174105 unique tokens.\n",
      "Shape of data tensor: (19997, 1000)\n",
      "Shape of label tensor: (19997, 20)\n"
     ]
    }
   ],
   "source": [
    "tokenizer = Tokenizer(num_words=MAX_NUM_WORDS)\n",
    "tokenizer.fit_on_texts(texts)\n",
    "sequences = tokenizer.texts_to_sequences(texts)\n",
    "\n",
    "word_index = tokenizer.word_index\n",
    "print('Found %s unique tokens.' % len(word_index))\n",
    "data = pad_sequences(sequences, maxlen=MAX_SEQUENCE_LENGTH)\n",
    "\n",
    "labels = to_categorical(np.asarray(labels))\n",
    "print('Shape of data tensor:', data.shape)\n",
    "print('Shape of label tensor:', labels.shape)"
   ]
  },
  {
   "cell_type": "code",
   "execution_count": 6,
   "metadata": {},
   "outputs": [
    {
     "name": "stdout",
     "output_type": "stream",
     "text": [
      "Preparing embedding matrix.\n"
     ]
    }
   ],
   "source": [
    "# split the data into a training set and a validation set\n",
    "indices = np.arange(data.shape[0])\n",
    "np.random.shuffle(indices)\n",
    "data = data[indices]\n",
    "labels = labels[indices]\n",
    "num_validation_samples = int(VALIDATION_SPLIT * data.shape[0])\n",
    "\n",
    "x_train = data[:-num_validation_samples]\n",
    "y_train = labels[:-num_validation_samples]\n",
    "x_val = data[-num_validation_samples:]\n",
    "y_val = labels[-num_validation_samples:]\n",
    "\n",
    "print('Preparing embedding matrix.')"
   ]
  },
  {
   "cell_type": "code",
   "execution_count": 7,
   "metadata": {},
   "outputs": [
    {
     "name": "stdout",
     "output_type": "stream",
     "text": [
      "Training model.\n"
     ]
    }
   ],
   "source": [
    "# prepare embedding matrix\n",
    "num_words = min(MAX_NUM_WORDS, len(word_index) + 1)\n",
    "embedding_matrix = np.zeros((num_words, EMBEDDING_DIM))\n",
    "for word, i in word_index.items():\n",
    "    if i >= MAX_NUM_WORDS:\n",
    "        continue\n",
    "    embedding_vector = embeddings_index.get(word)\n",
    "    if embedding_vector is not None:\n",
    "        # words not found in embedding index will be all-zeros.\n",
    "        embedding_matrix[i] = embedding_vector\n",
    "\n",
    "# load pre-trained word embeddings into an Embedding layer\n",
    "# note that we set trainable = False so as to keep the embeddings fixed\n",
    "embedding_layer = Embedding(num_words,\n",
    "                            EMBEDDING_DIM,\n",
    "                            embeddings_initializer=Constant(embedding_matrix),\n",
    "                            input_length=MAX_SEQUENCE_LENGTH,\n",
    "                            trainable=True)\n",
    "\n",
    "print('Training model.')"
   ]
  },
  {
   "cell_type": "code",
   "execution_count": 8,
   "metadata": {
    "scrolled": false
   },
   "outputs": [
    {
     "name": "stdout",
     "output_type": "stream",
     "text": [
      "WARNING:tensorflow:From /usr/local/lib/python2.7/dist-packages/keras/backend/tensorflow_backend.py:4070: The name tf.nn.max_pool is deprecated. Please use tf.nn.max_pool2d instead.\n",
      "\n",
      "WARNING:tensorflow:From /usr/local/lib/python2.7/dist-packages/keras/backend/tensorflow_backend.py:422: The name tf.global_variables is deprecated. Please use tf.compat.v1.global_variables instead.\n",
      "\n",
      "Train on 14998 samples, validate on 4999 samples\n",
      "Epoch 1/15\n",
      "14998/14998 [==============================] - 79s 5ms/step - loss: 2.9879 - acc: 0.0652 - val_loss: 2.9570 - val_acc: 0.0806\n",
      "Epoch 2/15\n",
      "14998/14998 [==============================] - 84s 6ms/step - loss: 2.9439 - acc: 0.0907 - val_loss: 2.9286 - val_acc: 0.1002\n",
      "Epoch 3/15\n",
      "14998/14998 [==============================] - 76s 5ms/step - loss: 2.9123 - acc: 0.1101 - val_loss: 2.8954 - val_acc: 0.1140\n",
      "Epoch 4/15\n",
      "14998/14998 [==============================] - 81s 5ms/step - loss: 2.8755 - acc: 0.1259 - val_loss: 2.8526 - val_acc: 0.1232\n",
      "Epoch 5/15\n",
      "14998/14998 [==============================] - 77s 5ms/step - loss: 2.8251 - acc: 0.1374 - val_loss: 2.7971 - val_acc: 0.1534\n",
      "Epoch 6/15\n",
      "14998/14998 [==============================] - 75s 5ms/step - loss: 2.7517 - acc: 0.1580 - val_loss: 2.7145 - val_acc: 0.1668\n",
      "Epoch 7/15\n",
      "14998/14998 [==============================] - 80s 5ms/step - loss: 2.6495 - acc: 0.1878 - val_loss: 2.6036 - val_acc: 0.2052\n",
      "Epoch 8/15\n",
      "14998/14998 [==============================] - 81s 5ms/step - loss: 2.5771 - acc: 0.1971 - val_loss: 2.5029 - val_acc: 0.2056\n",
      "Epoch 9/15\n",
      "14998/14998 [==============================] - 77s 5ms/step - loss: 2.4901 - acc: 0.2150 - val_loss: 2.4075 - val_acc: 0.2218\n",
      "Epoch 10/15\n",
      "14998/14998 [==============================] - 87s 6ms/step - loss: 2.3876 - acc: 0.2429 - val_loss: 2.3967 - val_acc: 0.2200\n",
      "Epoch 11/15\n",
      "14998/14998 [==============================] - 81s 5ms/step - loss: 2.3230 - acc: 0.2508 - val_loss: 2.2743 - val_acc: 0.2352\n",
      "Epoch 12/15\n",
      "14998/14998 [==============================] - 80s 5ms/step - loss: 2.2231 - acc: 0.2704 - val_loss: 2.1910 - val_acc: 0.2935\n",
      "Epoch 13/15\n",
      "14998/14998 [==============================] - 81s 5ms/step - loss: 2.1614 - acc: 0.2791 - val_loss: 2.3507 - val_acc: 0.2038\n",
      "Epoch 14/15\n",
      "14998/14998 [==============================] - 88s 6ms/step - loss: 2.1271 - acc: 0.2828 - val_loss: 2.1099 - val_acc: 0.3007\n",
      "Epoch 15/15\n",
      "14998/14998 [==============================] - 79s 5ms/step - loss: 2.0569 - acc: 0.3043 - val_loss: 2.1538 - val_acc: 0.2583\n"
     ]
    },
    {
     "data": {
      "text/plain": [
       "<keras.callbacks.callbacks.History at 0x7f6aced89610>"
      ]
     },
     "execution_count": 8,
     "metadata": {},
     "output_type": "execute_result"
    }
   ],
   "source": [
    "# train a 1D convnet with global maxpooling\n",
    "sequence_input = Input(shape=(MAX_SEQUENCE_LENGTH,), dtype='int32')\n",
    "embedded_sequences = embedding_layer(sequence_input)\n",
    "x = Conv1D(128, 5, activation='relu')(embedded_sequences)\n",
    "x = MaxPooling1D(5)(x)\n",
    "x = Conv1D(128, 5, activation='relu')(x)\n",
    "x = MaxPooling1D(5)(x)\n",
    "x = Conv1D(128, 5, activation='relu')(x)\n",
    "x = GlobalMaxPooling1D()(x)\n",
    "x = Dense(128, activation='relu')(x)\n",
    "preds = Dense(len(labels_index), activation='softmax')(x)\n",
    "\n",
    "model = Model(sequence_input, preds)\n",
    "model.compile(loss='categorical_crossentropy',\n",
    "              optimizer='sgd',\n",
    "              metrics=['acc'])\n",
    "model.fit(x_train, y_train,\n",
    "          batch_size=256,\n",
    "          epochs=15,\n",
    "          validation_data=(x_val, y_val))\n"
   ]
  },
  {
   "cell_type": "code",
   "execution_count": 9,
   "metadata": {},
   "outputs": [
    {
     "name": "stdout",
     "output_type": "stream",
     "text": [
      "Model: \"model_1\"\n",
      "_________________________________________________________________\n",
      "Layer (type)                 Output Shape              Param #   \n",
      "=================================================================\n",
      "input_1 (InputLayer)         (None, 1000)              0         \n",
      "_________________________________________________________________\n",
      "embedding_1 (Embedding)      (None, 1000, 100)         2000000   \n",
      "_________________________________________________________________\n",
      "conv1d_1 (Conv1D)            (None, 996, 128)          64128     \n",
      "_________________________________________________________________\n",
      "max_pooling1d_1 (MaxPooling1 (None, 199, 128)          0         \n",
      "_________________________________________________________________\n",
      "conv1d_2 (Conv1D)            (None, 195, 128)          82048     \n",
      "_________________________________________________________________\n",
      "max_pooling1d_2 (MaxPooling1 (None, 39, 128)           0         \n",
      "_________________________________________________________________\n",
      "conv1d_3 (Conv1D)            (None, 35, 128)           82048     \n",
      "_________________________________________________________________\n",
      "global_max_pooling1d_1 (Glob (None, 128)               0         \n",
      "_________________________________________________________________\n",
      "dense_1 (Dense)              (None, 128)               16512     \n",
      "_________________________________________________________________\n",
      "dense_2 (Dense)              (None, 20)                2580      \n",
      "=================================================================\n",
      "Total params: 2,247,316\n",
      "Trainable params: 2,247,316\n",
      "Non-trainable params: 0\n",
      "_________________________________________________________________\n",
      "None\n"
     ]
    }
   ],
   "source": [
    "print(model.summary())\n",
    "\n",
    "#plot_model(model, to_file='model20.png', show_shapes=True, show_layer_names=True)\n",
    "#print (\"arch saved at /media/root/par2/scripts/\")\n"
   ]
  },
  {
   "cell_type": "code",
   "execution_count": 10,
   "metadata": {},
   "outputs": [
    {
     "name": "stdout",
     "output_type": "stream",
     "text": [
      "Train on 11248 samples, validate on 3750 samples\n",
      "Epoch 1/15\n",
      "11248/11248 [==============================] - 59s 5ms/step - loss: 2.0278 - acc: 0.3128 - val_loss: 1.9108 - val_acc: 0.3613\n",
      "Epoch 2/15\n",
      "11248/11248 [==============================] - 60s 5ms/step - loss: 1.9806 - acc: 0.3232 - val_loss: 1.9434 - val_acc: 0.3307\n",
      "Epoch 3/15\n",
      "11248/11248 [==============================] - 58s 5ms/step - loss: 1.9533 - acc: 0.3429 - val_loss: 2.0655 - val_acc: 0.2899\n",
      "Epoch 4/15\n",
      "11248/11248 [==============================] - 71s 6ms/step - loss: 1.8948 - acc: 0.3634 - val_loss: 1.9750 - val_acc: 0.3232\n",
      "Epoch 5/15\n",
      "11248/11248 [==============================] - 62s 6ms/step - loss: 1.9165 - acc: 0.3536 - val_loss: 1.9103 - val_acc: 0.3344\n",
      "Epoch 6/15\n",
      "11248/11248 [==============================] - 61s 5ms/step - loss: 1.8517 - acc: 0.3754 - val_loss: 1.8066 - val_acc: 0.3941\n",
      "Epoch 7/15\n",
      "11248/11248 [==============================] - 57s 5ms/step - loss: 1.8356 - acc: 0.3809 - val_loss: 1.8890 - val_acc: 0.3549\n",
      "Epoch 8/15\n",
      "11248/11248 [==============================] - 64s 6ms/step - loss: 1.8358 - acc: 0.3816 - val_loss: 1.7822 - val_acc: 0.4139\n",
      "Epoch 9/15\n",
      "11248/11248 [==============================] - 61s 5ms/step - loss: 1.7713 - acc: 0.4091 - val_loss: 1.8007 - val_acc: 0.3712\n",
      "Epoch 10/15\n",
      "11248/11248 [==============================] - 59s 5ms/step - loss: 1.7339 - acc: 0.4181 - val_loss: 1.7098 - val_acc: 0.4173\n",
      "Epoch 11/15\n",
      "11248/11248 [==============================] - 57s 5ms/step - loss: 1.7224 - acc: 0.4245 - val_loss: 1.6634 - val_acc: 0.4515\n",
      "Epoch 12/15\n",
      "11248/11248 [==============================] - 60s 5ms/step - loss: 1.6788 - acc: 0.4317 - val_loss: 1.7903 - val_acc: 0.3880\n",
      "Epoch 13/15\n",
      "11248/11248 [==============================] - 57s 5ms/step - loss: 1.6549 - acc: 0.4430 - val_loss: 1.6473 - val_acc: 0.4459\n",
      "Epoch 14/15\n",
      "11248/11248 [==============================] - 59s 5ms/step - loss: 1.6446 - acc: 0.4468 - val_loss: 1.6541 - val_acc: 0.4413\n",
      "Epoch 15/15\n",
      "11248/11248 [==============================] - 63s 6ms/step - loss: 1.5963 - acc: 0.4651 - val_loss: 1.6128 - val_acc: 0.4499\n"
     ]
    }
   ],
   "source": [
    "# build history for Training  accuracy \n",
    "#train on the training se\n",
    "import matplotlib.pyplot as plt\n",
    "history = model.fit(x_train, y_train, validation_split=0.25, epochs=15, batch_size=256, verbose=1)"
   ]
  },
  {
   "cell_type": "code",
   "execution_count": 11,
   "metadata": {},
   "outputs": [
    {
     "data": {
      "image/png": "[encoded data removed]",
      "text/plain": [
       "<Figure size 432x288 with 1 Axes>"
      ]
     },
     "metadata": {
      "needs_background": "light"
     },
     "output_type": "display_data"
    }
   ],
   "source": [
    "# Plot training & validation accuracy values\n",
    "plt.plot(history.history['acc'])\n",
    "plt.plot(history.history['val_acc'])\n",
    "plt.title('Model accuracy')\n",
    "plt.ylabel('Accuracy')\n",
    "plt.xlabel('Epoch')\n",
    "plt.legend(['Train', 'Test'], loc='upper left')\n",
    "plt.show()"
   ]
  },
  {
   "cell_type": "code",
   "execution_count": 12,
   "metadata": {},
   "outputs": [
    {
     "data": {
      "image/png": "[encoded data removed]",
      "text/plain": [
       "<Figure size 432x288 with 1 Axes>"
      ]
     },
     "metadata": {
      "needs_background": "light"
     },
     "output_type": "display_data"
    }
   ],
   "source": [
    "# Plot training & validation loss values\n",
    "plt.plot(history.history['loss'])\n",
    "plt.plot(history.history['val_loss'])\n",
    "plt.title('Model loss')\n",
    "plt.ylabel('Loss')\n",
    "plt.xlabel('Epoch')\n",
    "plt.legend(['Train', 'Test'], loc='upper left')\n",
    "plt.show()"
   ]
  },
  {
   "cell_type": "code",
   "execution_count": 13,
   "metadata": {},
   "outputs": [
    {
     "name": "stdout",
     "output_type": "stream",
     "text": [
      "Training Accuracy: 0.4701\n",
      "Testing Accuracy:  0.4367\n"
     ]
    }
   ],
   "source": [
    "loss, accuracy = model.evaluate(x_train, y_train, verbose=False)\n",
    "print(\"Training Accuracy: {:.4f}\".format(accuracy))\n",
    "loss, accuracy = model.evaluate(x_val, y_val, verbose=False)\n",
    "print(\"Testing Accuracy:  {:.4f}\".format(accuracy))\n"
   ]
  },
  {
   "cell_type": "code",
   "execution_count": null,
   "metadata": {},
   "outputs": [],
   "source": [
    "\n"
   ]
  },
  {
   "cell_type": "code",
   "execution_count": null,
   "metadata": {},
   "outputs": [],
   "source": []
  },
  {
   "cell_type": "code",
   "execution_count": null,
   "metadata": {},
   "outputs": [],
   "source": []
  },
  {
   "cell_type": "code",
   "execution_count": null,
   "metadata": {},
   "outputs": [],
   "source": []
  }
 ],
 "metadata": {
  "kernelspec": {
   "display_name": "Python 2",
   "language": "python",
   "name": "python2"
  },
  "language_info": {
   "codemirror_mode": {
    "name": "ipython",
    "version": 2
   },
   "file_extension": ".py",
   "mimetype": "text/x-python",
   "name": "python",
   "nbconvert_exporter": "python",
   "pygments_lexer": "ipython2",
   "version": "2.7.17"
  }
 },
 "nbformat": 4,
 "nbformat_minor": 2
}
