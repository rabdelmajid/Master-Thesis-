{
 "cells": [
  {
   "cell_type": "code",
   "execution_count": 1,
   "metadata": {},
   "outputs": [
    {
     "name": "stderr",
     "output_type": "stream",
     "text": [
      "Using TensorFlow backend.\n"
     ]
    }
   ],
   "source": [
    "from __future__ import print_function\n",
    "import os\n",
    "import sys\n",
    "import numpy as np\n",
    "from keras.preprocessing.text import Tokenizer\n",
    "from keras.preprocessing.sequence import pad_sequences\n",
    "from keras.utils import to_categorical\n",
    "from keras.layers import Dense, Input, GlobalMaxPooling1D\n",
    "from keras.layers import Conv1D, MaxPooling1D, Embedding\n",
    "from keras.models import Model\n",
    "from keras.initializers import Constant\n",
    "from keras.utils import plot_model\n",
    "from IPython.display import SVG\n",
    "from keras.utils import model_to_dot\n"
   ]
  },
  {
   "cell_type": "code",
   "execution_count": 2,
   "metadata": {},
   "outputs": [
    {
     "name": "stdout",
     "output_type": "stream",
     "text": [
      "Indexing word vectors.\n"
     ]
    }
   ],
   "source": [
    "BASE_DIR = ''\n",
    "GLOVE_DIR = os.path.join(BASE_DIR, '/media/root/par2/glove.6B')\n",
    "TEXT_DATA_DIR = os.path.join(BASE_DIR, '/media/root/par2/20_newsgroup')\n",
    "MAX_SEQUENCE_LENGTH = 1000\n",
    "MAX_NUM_WORDS = 20000\n",
    "EMBEDDING_DIM = 100\n",
    "VALIDATION_SPLIT = 0.25\n",
    "print('Indexing word vectors.')"
   ]
  },
  {
   "cell_type": "code",
   "execution_count": 3,
   "metadata": {},
   "outputs": [
    {
     "name": "stdout",
     "output_type": "stream",
     "text": [
      "Found 400000 word vectors.\n"
     ]
    }
   ],
   "source": [
    "embeddings_index = {}\n",
    "with open(os.path.join(GLOVE_DIR, '/media/root/par2/glove.6B/glove.6B.100d.txt')) as f:\n",
    " for line in f:\n",
    "     \n",
    "        word, coefs = line.split(\" \", 1)\n",
    "        coefs = np.fromstring(coefs, 'f', sep=' ')\n",
    "        embeddings_index[word] = coefs\n",
    "print('Found %s word vectors.' % len(embeddings_index))"
   ]
  },
  {
   "cell_type": "code",
   "execution_count": 4,
   "metadata": {},
   "outputs": [
    {
     "name": "stdout",
     "output_type": "stream",
     "text": [
      "Processing text dataset\n",
      "Found 19997 texts.\n"
     ]
    }
   ],
   "source": [
    "print('Processing text dataset')\n",
    "\n",
    "texts = []  # list of text samples\n",
    "labels_index = {}  # dictionary mapping label name to numeric id\n",
    "labels = []  # list of label ids\n",
    "for name in sorted(os.listdir(TEXT_DATA_DIR)):\n",
    "    path = os.path.join(TEXT_DATA_DIR, name)\n",
    "    if os.path.isdir(path):\n",
    "        label_id = len(labels_index)\n",
    "        labels_index[name] = label_id\n",
    "        for fname in sorted(os.listdir(path)):\n",
    "            if fname.isdigit():\n",
    "                fpath = os.path.join(path, fname)\n",
    "                args = {} if sys.version_info < (3,) else {'encoding': 'latin-1'}\n",
    "                with open(fpath, **args) as f:\n",
    "                    t = f.read()\n",
    "                    i = t.find('\\n\\n')  # skip header\n",
    "                    if 0 < i:\n",
    "                        t = t[i:]\n",
    "                    texts.append(t)\n",
    "                labels.append(label_id)\n",
    "\n",
    "print('Found %s texts.' % len(texts))"
   ]
  },
  {
   "cell_type": "code",
   "execution_count": 5,
   "metadata": {},
   "outputs": [
    {
     "name": "stdout",
     "output_type": "stream",
     "text": [
      "Found 174105 unique tokens.\n",
      "Shape of data tensor: (19997, 1000)\n",
      "Shape of label tensor: (19997, 20)\n"
     ]
    }
   ],
   "source": [
    "tokenizer = Tokenizer(num_words=MAX_NUM_WORDS)\n",
    "tokenizer.fit_on_texts(texts)\n",
    "sequences = tokenizer.texts_to_sequences(texts)\n",
    "\n",
    "word_index = tokenizer.word_index\n",
    "print('Found %s unique tokens.' % len(word_index))\n",
    "data = pad_sequences(sequences, maxlen=MAX_SEQUENCE_LENGTH)\n",
    "\n",
    "labels = to_categorical(np.asarray(labels))\n",
    "print('Shape of data tensor:', data.shape)\n",
    "print('Shape of label tensor:', labels.shape)"
   ]
  },
  {
   "cell_type": "code",
   "execution_count": 6,
   "metadata": {},
   "outputs": [
    {
     "name": "stdout",
     "output_type": "stream",
     "text": [
      "Preparing embedding matrix.\n"
     ]
    }
   ],
   "source": [
    "# split the data into a training set and a validation set\n",
    "indices = np.arange(data.shape[0])\n",
    "np.random.shuffle(indices)\n",
    "data = data[indices]\n",
    "labels = labels[indices]\n",
    "num_validation_samples = int(VALIDATION_SPLIT * data.shape[0])\n",
    "\n",
    "x_train = data[:-num_validation_samples]\n",
    "y_train = labels[:-num_validation_samples]\n",
    "x_val = data[-num_validation_samples:]\n",
    "y_val = labels[-num_validation_samples:]\n",
    "\n",
    "print('Preparing embedding matrix.')"
   ]
  },
  {
   "cell_type": "code",
   "execution_count": 7,
   "metadata": {},
   "outputs": [
    {
     "name": "stdout",
     "output_type": "stream",
     "text": [
      "Training model.\n"
     ]
    }
   ],
   "source": [
    "# prepare embedding matrix\n",
    "num_words = min(MAX_NUM_WORDS, len(word_index) + 1)\n",
    "embedding_matrix = np.zeros((num_words, EMBEDDING_DIM))\n",
    "for word, i in word_index.items():\n",
    "    if i >= MAX_NUM_WORDS:\n",
    "        continue\n",
    "    embedding_vector = embeddings_index.get(word)\n",
    "    if embedding_vector is not None:\n",
    "        # words not found in embedding index will be all-zeros.\n",
    "        embedding_matrix[i] = embedding_vector\n",
    "\n",
    "# load pre-trained word embeddings into an Embedding layer\n",
    "# note that we set trainable = False so as to keep the embeddings fixed\n",
    "embedding_layer = Embedding(num_words,\n",
    "                            EMBEDDING_DIM,\n",
    "                            embeddings_initializer=Constant(embedding_matrix),\n",
    "                            input_length=MAX_SEQUENCE_LENGTH,\n",
    "                            trainable=True)\n",
    "\n",
    "print('Training model.')"
   ]
  },
  {
   "cell_type": "code",
   "execution_count": 8,
   "metadata": {
    "scrolled": false
   },
   "outputs": [
    {
     "name": "stdout",
     "output_type": "stream",
     "text": [
      "WARNING:tensorflow:From /usr/local/lib/python2.7/dist-packages/keras/backend/tensorflow_backend.py:4070: The name tf.nn.max_pool is deprecated. Please use tf.nn.max_pool2d instead.\n",
      "\n",
      "WARNING:tensorflow:From /usr/local/lib/python2.7/dist-packages/keras/backend/tensorflow_backend.py:422: The name tf.global_variables is deprecated. Please use tf.compat.v1.global_variables instead.\n",
      "\n",
      "Train on 14998 samples, validate on 4999 samples\n",
      "Epoch 1/15\n",
      "14998/14998 [==============================] - 83s 6ms/step - loss: 2.5906 - acc: 0.1526 - val_loss: 1.9889 - val_acc: 0.3069\n",
      "Epoch 2/15\n",
      "14998/14998 [==============================] - 86s 6ms/step - loss: 1.7120 - acc: 0.3906 - val_loss: 1.5091 - val_acc: 0.4809\n",
      "Epoch 3/15\n",
      "14998/14998 [==============================] - 86s 6ms/step - loss: 1.2277 - acc: 0.5644 - val_loss: 1.2277 - val_acc: 0.5739\n",
      "Epoch 4/15\n",
      "14998/14998 [==============================] - 82s 5ms/step - loss: 0.9042 - acc: 0.6942 - val_loss: 0.9587 - val_acc: 0.6767\n",
      "Epoch 5/15\n",
      "14998/14998 [==============================] - 90s 6ms/step - loss: 0.6727 - acc: 0.7753 - val_loss: 0.9050 - val_acc: 0.7069\n",
      "Epoch 6/15\n",
      "14998/14998 [==============================] - 84s 6ms/step - loss: 0.4996 - acc: 0.8326 - val_loss: 0.8679 - val_acc: 0.7227\n",
      "Epoch 7/15\n",
      "14998/14998 [==============================] - 85s 6ms/step - loss: 0.3746 - acc: 0.8788 - val_loss: 0.8597 - val_acc: 0.7405\n",
      "Epoch 8/15\n",
      "14998/14998 [==============================] - 86s 6ms/step - loss: 0.2758 - acc: 0.9117 - val_loss: 0.8781 - val_acc: 0.7479\n",
      "Epoch 9/15\n",
      "14998/14998 [==============================] - 83s 6ms/step - loss: 0.2112 - acc: 0.9304 - val_loss: 0.9140 - val_acc: 0.7481\n",
      "Epoch 10/15\n",
      "14998/14998 [==============================] - 84s 6ms/step - loss: 0.1728 - acc: 0.9440 - val_loss: 0.9930 - val_acc: 0.7453\n",
      "Epoch 11/15\n",
      "14998/14998 [==============================] - 81s 5ms/step - loss: 0.1518 - acc: 0.9509 - val_loss: 0.9589 - val_acc: 0.7656\n",
      "Epoch 12/15\n",
      "14998/14998 [==============================] - 83s 6ms/step - loss: 0.1281 - acc: 0.9593 - val_loss: 1.0394 - val_acc: 0.7530\n",
      "Epoch 13/15\n",
      "14998/14998 [==============================] - 83s 6ms/step - loss: 0.1148 - acc: 0.9621 - val_loss: 1.0163 - val_acc: 0.7580\n",
      "Epoch 14/15\n",
      "14998/14998 [==============================] - 82s 5ms/step - loss: 0.1182 - acc: 0.9617 - val_loss: 1.0167 - val_acc: 0.7632\n",
      "Epoch 15/15\n",
      "14998/14998 [==============================] - 85s 6ms/step - loss: 0.1039 - acc: 0.9653 - val_loss: 1.0480 - val_acc: 0.7564\n"
     ]
    },
    {
     "data": {
      "text/plain": [
       "<keras.callbacks.callbacks.History at 0x7f6554d6b350>"
      ]
     },
     "execution_count": 8,
     "metadata": {},
     "output_type": "execute_result"
    }
   ],
   "source": [
    "# train a 1D convnet with global maxpooling\n",
    "sequence_input = Input(shape=(MAX_SEQUENCE_LENGTH,), dtype='int32')\n",
    "embedded_sequences = embedding_layer(sequence_input)\n",
    "x = Conv1D(128, 5, activation='relu')(embedded_sequences)\n",
    "x = MaxPooling1D(5)(x)\n",
    "x = Conv1D(128, 5, activation='relu')(x)\n",
    "x = MaxPooling1D(5)(x)\n",
    "x = Conv1D(128, 5, activation='relu')(x)\n",
    "x = GlobalMaxPooling1D()(x)\n",
    "x = Dense(128, activation='relu')(x)\n",
    "preds = Dense(len(labels_index), activation='softmax')(x)\n",
    "\n",
    "model = Model(sequence_input, preds)\n",
    "model.compile(loss='categorical_crossentropy',\n",
    "              optimizer='adam',\n",
    "              metrics=['acc'])\n",
    "model.fit(x_train, y_train,\n",
    "          batch_size=256,\n",
    "          epochs=15,\n",
    "          validation_data=(x_val, y_val))\n"
   ]
  },
  {
   "cell_type": "code",
   "execution_count": 10,
   "metadata": {},
   "outputs": [
    {
     "name": "stdout",
     "output_type": "stream",
     "text": [
      "Model: \"model_1\"\n",
      "_________________________________________________________________\n",
      "Layer (type)                 Output Shape              Param #   \n",
      "=================================================================\n",
      "input_1 (InputLayer)         (None, 1000)              0         \n",
      "_________________________________________________________________\n",
      "embedding_1 (Embedding)      (None, 1000, 100)         2000000   \n",
      "_________________________________________________________________\n",
      "conv1d_1 (Conv1D)            (None, 996, 128)          64128     \n",
      "_________________________________________________________________\n",
      "max_pooling1d_1 (MaxPooling1 (None, 199, 128)          0         \n",
      "_________________________________________________________________\n",
      "conv1d_2 (Conv1D)            (None, 195, 128)          82048     \n",
      "_________________________________________________________________\n",
      "max_pooling1d_2 (MaxPooling1 (None, 39, 128)           0         \n",
      "_________________________________________________________________\n",
      "conv1d_3 (Conv1D)            (None, 35, 128)           82048     \n",
      "_________________________________________________________________\n",
      "global_max_pooling1d_1 (Glob (None, 128)               0         \n",
      "_________________________________________________________________\n",
      "dense_1 (Dense)              (None, 128)               16512     \n",
      "_________________________________________________________________\n",
      "dense_2 (Dense)              (None, 20)                2580      \n",
      "=================================================================\n",
      "Total params: 2,247,316\n",
      "Trainable params: 2,247,316\n",
      "Non-trainable params: 0\n",
      "_________________________________________________________________\n",
      "None\n"
     ]
    }
   ],
   "source": [
    "print(model.summary())\n",
    "\n",
    "#plot_model(model, to_file='model20.png', show_shapes=True, show_layer_names=True)\n",
    "#print (\"arch saved at /media/root/par2/scripts/\")\n"
   ]
  },
  {
   "cell_type": "code",
   "execution_count": 12,
   "metadata": {},
   "outputs": [
    {
     "name": "stdout",
     "output_type": "stream",
     "text": [
      "Train on 11248 samples, validate on 3750 samples\n",
      "Epoch 1/15\n",
      "11248/11248 [==============================] - 71s 6ms/step - loss: 0.0921 - acc: 0.9670 - val_loss: 0.0987 - val_acc: 0.9651\n",
      "Epoch 2/15\n",
      "11248/11248 [==============================] - 61s 5ms/step - loss: 0.0784 - acc: 0.9734 - val_loss: 0.1239 - val_acc: 0.9581\n",
      "Epoch 3/15\n",
      "11248/11248 [==============================] - 65s 6ms/step - loss: 0.0754 - acc: 0.9744 - val_loss: 0.1279 - val_acc: 0.9595\n",
      "Epoch 4/15\n",
      "11248/11248 [==============================] - 65s 6ms/step - loss: 0.0736 - acc: 0.9747 - val_loss: 0.1480 - val_acc: 0.9555\n",
      "Epoch 5/15\n",
      "11248/11248 [==============================] - 69s 6ms/step - loss: 0.0783 - acc: 0.9723 - val_loss: 0.1565 - val_acc: 0.9549\n",
      "Epoch 6/15\n",
      "11248/11248 [==============================] - 71s 6ms/step - loss: 0.0709 - acc: 0.9749 - val_loss: 0.1514 - val_acc: 0.9560\n",
      "Epoch 7/15\n",
      "11248/11248 [==============================] - 63s 6ms/step - loss: 0.0672 - acc: 0.9755 - val_loss: 0.1522 - val_acc: 0.9571\n",
      "Epoch 8/15\n",
      "11248/11248 [==============================] - 62s 5ms/step - loss: 0.0684 - acc: 0.9748 - val_loss: 0.1828 - val_acc: 0.9512\n",
      "Epoch 9/15\n",
      "11248/11248 [==============================] - 64s 6ms/step - loss: 0.0706 - acc: 0.9747 - val_loss: 0.1588 - val_acc: 0.9568\n",
      "Epoch 10/15\n",
      "11248/11248 [==============================] - 62s 5ms/step - loss: 0.0635 - acc: 0.9769 - val_loss: 0.1689 - val_acc: 0.9531\n",
      "Epoch 11/15\n",
      "11248/11248 [==============================] - 71s 6ms/step - loss: 0.0620 - acc: 0.9770 - val_loss: 0.1794 - val_acc: 0.9531\n",
      "Epoch 12/15\n",
      "11248/11248 [==============================] - 95s 8ms/step - loss: 0.0685 - acc: 0.9762 - val_loss: 0.1754 - val_acc: 0.9547\n",
      "Epoch 13/15\n",
      "11248/11248 [==============================] - 66s 6ms/step - loss: 0.0679 - acc: 0.9755 - val_loss: 0.1918 - val_acc: 0.9483\n",
      "Epoch 14/15\n",
      "11248/11248 [==============================] - 64s 6ms/step - loss: 0.0577 - acc: 0.9773 - val_loss: 0.2130 - val_acc: 0.9411\n",
      "Epoch 15/15\n",
      "11248/11248 [==============================] - 62s 6ms/step - loss: 0.0663 - acc: 0.9756 - val_loss: 0.2325 - val_acc: 0.9384\n"
     ]
    }
   ],
   "source": [
    "# build history for Training  accuracy \n",
    "#train on the training se\n",
    "import matplotlib.pyplot as plt\n",
    "history = model.fit(x_train, y_train, validation_split=0.25, epochs=15, batch_size=256, verbose=1)"
   ]
  },
  {
   "cell_type": "code",
   "execution_count": 12,
   "metadata": {},
   "outputs": [
    {
     "data": {
      "image/png": "[encoded data removed]",
      "text/plain": [
       "<Figure size 432x288 with 1 Axes>"
      ]
     },
     "metadata": {
      "needs_background": "light"
     },
     "output_type": "display_data"
    }
   ],
   "source": [
    "# Plot training & validation accuracy values\n",
    "plt.plot(history.history['acc'])\n",
    "plt.plot(history.history['val_acc'])\n",
    "plt.title('Model accuracy')\n",
    "plt.ylabel('Accuracy')\n",
    "plt.xlabel('Epoch')\n",
    "plt.legend(['Train', 'Test'], loc='upper left')\n",
    "plt.show()"
   ]
  },
  {
   "cell_type": "code",
   "execution_count": 13,
   "metadata": {},
   "outputs": [
    {
     "data": {
      "image/png": "[encoded data removed]",
      "text/plain": [
       "<Figure size 432x288 with 1 Axes>"
      ]
     },
     "metadata": {
      "needs_background": "light"
     },
     "output_type": "display_data"
    }
   ],
   "source": [
    "# Plot training & validation loss values\n",
    "plt.plot(history.history['loss'])\n",
    "plt.plot(history.history['val_loss'])\n",
    "plt.title('Model loss')\n",
    "plt.ylabel('Loss')\n",
    "plt.xlabel('Epoch')\n",
    "plt.legend(['Train', 'Test'], loc='upper left')\n",
    "plt.show()"
   ]
  },
  {
   "cell_type": "code",
   "execution_count": 14,
   "metadata": {},
   "outputs": [
    {
     "name": "stdout",
     "output_type": "stream",
     "text": [
      "Training Accuracy: 0.9587\n",
      "Testing Accuracy:  0.7928\n"
     ]
    }
   ],
   "source": [
    "loss, accuracy = model.evaluate(x_train, y_train, verbose=False)\n",
    "print(\"Training Accuracy: {:.4f}\".format(accuracy))\n",
    "loss, accuracy = model.evaluate(x_val, y_val, verbose=False)\n",
    "print(\"Testing Accuracy:  {:.4f}\".format(accuracy))\n"
   ]
  },
  {
   "cell_type": "code",
   "execution_count": null,
   "metadata": {},
   "outputs": [],
   "source": [
    "\n"
   ]
  },
  {
   "cell_type": "code",
   "execution_count": null,
   "metadata": {},
   "outputs": [],
   "source": []
  },
  {
   "cell_type": "code",
   "execution_count": null,
   "metadata": {},
   "outputs": [],
   "source": []
  },
  {
   "cell_type": "code",
   "execution_count": null,
   "metadata": {},
   "outputs": [],
   "source": []
  }
 ],
 "metadata": {
  "kernelspec": {
   "display_name": "Python 2",
   "language": "python",
   "name": "python2"
  },
  "language_info": {
   "codemirror_mode": {
    "name": "ipython",
    "version": 2
   },
   "file_extension": ".py",
   "mimetype": "text/x-python",
   "name": "python",
   "nbconvert_exporter": "python",
   "pygments_lexer": "ipython2",
   "version": "2.7.17"
  }
 },
 "nbformat": 4,
 "nbformat_minor": 2
}
