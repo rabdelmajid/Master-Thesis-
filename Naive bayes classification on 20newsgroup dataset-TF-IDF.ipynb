{
 "cells": [
  {
   "cell_type": "code",
   "execution_count": 1,
   "metadata": {},
   "outputs": [],
   "source": [
    "##retrieve data"
   ]
  },
  {
   "cell_type": "code",
   "execution_count": null,
   "metadata": {},
   "outputs": [],
   "source": [
    "from sklearn.datasets import fetch_20newsgroups\n",
    "news = fetch_20newsgroups(subset='all')"
   ]
  },
  {
   "cell_type": "code",
   "execution_count": 13,
   "metadata": {},
   "outputs": [
    {
     "name": "stdout",
     "output_type": "stream",
     "text": [
      "The total number of files =\n"
     ]
    },
    {
     "data": {
      "text/plain": [
       "18846"
      ]
     },
     "execution_count": 13,
     "metadata": {},
     "output_type": "execute_result"
    }
   ],
   "source": [
    "print (\"The total number of files =\")\n",
    "len(news.data)"
   ]
  },
  {
   "cell_type": "code",
   "execution_count": 2,
   "metadata": {},
   "outputs": [],
   "source": [
    "###Vectorization\n",
    "from sklearn.model_selection import train_test_split"
   ]
  },
  {
   "cell_type": "code",
   "execution_count": 14,
   "metadata": {},
   "outputs": [],
   "source": [
    "#Weighting data with TF-IDF method\n",
    "\n",
    "from sklearn.feature_extraction.text import CountVectorizer\n",
    "vec = CountVectorizer()\n",
    "X = vec.fit_transform(news.data)"
   ]
  },
  {
   "cell_type": "code",
   "execution_count": 4,
   "metadata": {},
   "outputs": [
    {
     "name": "stdout",
     "output_type": "stream",
     "text": [
      "[[0 0 0 0 0 0 0 0 0 0]\n",
      " [0 0 0 0 0 0 0 0 0 0]\n",
      " [0 0 0 0 0 0 0 0 0 0]\n",
      " [0 0 0 0 0 0 0 0 0 0]\n",
      " [0 0 0 0 0 0 0 0 0 0]\n",
      " [0 0 0 0 0 0 0 0 0 0]\n",
      " [0 0 0 0 0 0 0 0 0 0]\n",
      " [3 0 0 0 0 0 0 0 0 0]\n",
      " [0 0 0 0 0 0 0 0 0 0]\n",
      " [0 0 0 0 0 0 0 0 0 0]]\n"
     ]
    }
   ],
   "source": [
    "print(X[:10, :10].toarray())\n"
   ]
  },
  {
   "cell_type": "code",
   "execution_count": 5,
   "metadata": {},
   "outputs": [],
   "source": [
    "\n",
    "from sklearn.feature_extraction.text import TfidfTransformer\n",
    "TFIDF = TfidfTransformer()\n",
    "X_tfidf = TFIDF.fit_transform(X)"
   ]
  },
  {
   "cell_type": "code",
   "execution_count": 6,
   "metadata": {},
   "outputs": [
    {
     "name": "stdout",
     "output_type": "stream",
     "text": [
      "[[0.         0.         0.         0.         0.         0.\n",
      "  0.         0.         0.         0.        ]\n",
      " [0.         0.         0.         0.         0.         0.\n",
      "  0.         0.         0.         0.        ]\n",
      " [0.         0.         0.         0.         0.         0.\n",
      "  0.         0.         0.         0.        ]\n",
      " [0.         0.         0.         0.         0.         0.\n",
      "  0.         0.         0.         0.        ]\n",
      " [0.         0.         0.         0.         0.         0.\n",
      "  0.         0.         0.         0.        ]\n",
      " [0.         0.         0.         0.         0.         0.\n",
      "  0.         0.         0.         0.        ]\n",
      " [0.         0.         0.         0.         0.         0.\n",
      "  0.         0.         0.         0.        ]\n",
      " [0.14795455 0.         0.         0.         0.         0.\n",
      "  0.         0.         0.         0.        ]\n",
      " [0.         0.         0.         0.         0.         0.\n",
      "  0.         0.         0.         0.        ]\n",
      " [0.         0.         0.         0.         0.         0.\n",
      "  0.         0.         0.         0.        ]]\n"
     ]
    }
   ],
   "source": [
    "print(X_tfidf[:10, :10].toarray())"
   ]
  },
  {
   "cell_type": "code",
   "execution_count": 7,
   "metadata": {},
   "outputs": [
    {
     "name": "stderr",
     "output_type": "stream",
     "text": [
      "/usr/local/lib/python2.7/dist-packages/sklearn/cross_validation.py:41: DeprecationWarning: This module was deprecated in version 0.18 in favor of the model_selection module into which all the refactored classes and functions are moved. Also note that the interface of the new CV iterators are different from that of this module. This module will be removed in 0.20.\n",
      "  \"This module will be removed in 0.20.\", DeprecationWarning)\n"
     ]
    }
   ],
   "source": [
    "#Split dataset\n",
    "\n",
    "from sklearn.cross_validation import train_test_split\n",
    "tf_Xtrain, tf_Xtest, tf_ytrain, tf_ytest = train_test_split(X_tfidf, news.target, test_size=0.25, random_state=233)\n"
   ]
  },
  {
   "cell_type": "code",
   "execution_count": null,
   "metadata": {},
   "outputs": [],
   "source": [
    "###############Parameter explanation: train_data: sample feature set to be divided train_target: \n",
    "#sample result to be divided test_size: sample proportion, if it is an integer, it is the number \n",
    "#of samples random_state: is the seed of random numbers. Random number seed: In fact, it is the number \n",
    "##of the random number of the group. When you need to repeat the test, make sure you get the same\n",
    "#random number. For example, if you fill in 1 each time, the random array you get is the same if\n",
    "#the other parameters are the same. But fill 0 or not, it will be different every time. \n",
    "#The generation of random numbers depends on the seeds, and the relationship between \n",
    "#random numbers and seeds follows the following two rules: different seeds produce different random numbers; the same seeds produce the same random numbers even if the instances are different"
   ]
  },
  {
   "cell_type": "code",
   "execution_count": 8,
   "metadata": {},
   "outputs": [
    {
     "data": {
      "text/plain": [
       "MultinomialNB(alpha=1.0, class_prior=None, fit_prior=True)"
      ]
     },
     "execution_count": 8,
     "metadata": {},
     "output_type": "execute_result"
    }
   ],
   "source": [
    "#Training naive Bayes mode\n",
    "#Briefly explain the principle of naive Bayes classification http://www.ruanyifeng.com/blog/2013/12/naive_bayes_classifier.html\n",
    "from sklearn.naive_bayes import MultinomialNB\n",
    "\n",
    "tf_mnb = MultinomialNB()\n",
    "tf_mnb.fit(tf_Xtrain, tf_ytrain)"
   ]
  },
  {
   "cell_type": "code",
   "execution_count": 9,
   "metadata": {},
   "outputs": [
    {
     "name": "stdout",
     "output_type": "stream",
     "text": [
      "Naive Bayes with TF-IDF dataset Accuracy: 0.853140916808\n",
      "\n",
      "                          precision    recall  f1-score   support\n",
      "\n",
      "             alt.atheism       0.93      0.71      0.81       227\n",
      "           comp.graphics       0.89      0.73      0.80       254\n",
      " comp.os.ms-windows.misc       0.79      0.86      0.82       235\n",
      "comp.sys.ibm.pc.hardware       0.79      0.83      0.81       252\n",
      "   comp.sys.mac.hardware       0.90      0.83      0.87       237\n",
      "          comp.windows.x       0.93      0.85      0.89       243\n",
      "            misc.forsale       0.94      0.70      0.80       256\n",
      "               rec.autos       0.88      0.91      0.90       250\n",
      "         rec.motorcycles       0.97      0.94      0.95       279\n",
      "      rec.sport.baseball       0.95      0.95      0.95       233\n",
      "        rec.sport.hockey       0.90      0.98      0.94       241\n",
      "               sci.crypt       0.73      0.98      0.84       246\n",
      "         sci.electronics       0.85      0.82      0.84       233\n",
      "                 sci.med       0.95      0.92      0.93       229\n",
      "               sci.space       0.88      0.95      0.92       240\n",
      "  soc.religion.christian       0.58      0.98      0.73       252\n",
      "      talk.politics.guns       0.78      0.96      0.86       238\n",
      "   talk.politics.mideast       0.93      0.97      0.95       237\n",
      "      talk.politics.misc       1.00      0.70      0.82       188\n",
      "      talk.religion.misc       0.96      0.18      0.31       142\n",
      "\n",
      "             avg / total       0.87      0.85      0.85      4712\n",
      "\n"
     ]
    }
   ],
   "source": [
    "#effect evaluation¶#\n",
    "from sklearn.metrics import classification_report\n",
    "tf_ypredict = tf_mnb.predict(tf_Xtest)\n",
    "print(\"Naive Bayes with TF-IDF dataset Accuracy: {0}\\n\".format(tf_mnb.score(tf_Xtest, tf_ytest)))\n",
    "print(classification_report(tf_ytest, tf_ypredict, target_names=news.target_names))"
   ]
  },
  {
   "cell_type": "code",
   "execution_count": null,
   "metadata": {},
   "outputs": [],
   "source": []
  },
  {
   "cell_type": "code",
   "execution_count": null,
   "metadata": {},
   "outputs": [],
   "source": []
  }
 ],
 "metadata": {
  "kernelspec": {
   "display_name": "Python 2",
   "language": "python",
   "name": "python2"
  },
  "language_info": {
   "codemirror_mode": {
    "name": "ipython",
    "version": 2
   },
   "file_extension": ".py",
   "mimetype": "text/x-python",
   "name": "python",
   "nbconvert_exporter": "python",
   "pygments_lexer": "ipython2",
   "version": "2.7.17"
  }
 },
 "nbformat": 4,
 "nbformat_minor": 2
}
