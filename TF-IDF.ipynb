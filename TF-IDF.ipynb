{
 "cells": [
  {
   "cell_type": "code",
   "execution_count": 23,
   "metadata": {},
   "outputs": [],
   "source": [
    "import pandas as pd"
   ]
  },
  {
   "cell_type": "code",
   "execution_count": 24,
   "metadata": {},
   "outputs": [],
   "source": [
    "from sklearn.feature_extraction.text import TfidfTransformer\n",
    "from sklearn.feature_extraction.text import TfidfVectorizer"
   ]
  },
  {
   "cell_type": "code",
   "execution_count": 30,
   "metadata": {},
   "outputs": [],
   "source": [
    "dataset = [\n",
    "     \"Scholar Search Relevancy Optimization \",\n",
    "      \"The massive amount of information published every day has made it difﬁcult to conduct a more relevant search for educational materials, because of loose requirements regarding metadata content. Many researchers have pointed out the importance of metadata and the efficiency of machine learning, deep learning algorithms, and language processing in text classification and semantic similarity by discussing the efficiency of algorithms without indicating how to use these algorithms to enhance search results based on metadata.This study aims to test some of the natural language processing tasks, machine learning, and deep learning techniques, in addition to the role of metadata in enhancing search results. This study propose a framework called   as a recommender and assistance system to enables the author to add as much relevant information as possible to their publications to enhance retrievability by increasing the opportunity of displaying documents and texts in the search results.This study shows the possibility of enhancing search results   by combining language processing, deep learning, and metadata. In addition, this shows that documents can classified with high accuracy whether using traditional classifiers such as Multinomial Naïve Bayes (MNB) with  accuracy or deep learning such as Convolutional Neural Network (CNN) with  accuracy, and the accuracy of classifiers depends primarily on features extracting. In addition, the semantic similarity of words or sentences can computed by representing words into vectors,, the closer the cosine value to 1, the smaller the angle, the higher the match between words vectors  which had a positive impact on the Al-Quds system as a recommender and assistance system to use by the authors.\"\n",
    "]"
   ]
  },
  {
   "cell_type": "code",
   "execution_count": 32,
   "metadata": {},
   "outputs": [
    {
     "name": "stdout",
     "output_type": "stream",
     "text": [
      "                TF-IDF\n",
      "scholar       0.534046\n",
      "relevancy     0.534046\n",
      "optimization  0.534046\n",
      "search        0.379978\n",
      "accuracy      0.000000\n",
      "publications  0.000000\n",
      "possible      0.000000\n",
      "primarily     0.000000\n",
      "processing    0.000000\n",
      "propose       0.000000\n"
     ]
    }
   ],
   "source": [
    "tfIdfVectorizer=TfidfVectorizer(use_idf=True)\n",
    "tfIdf = tfIdfVectorizer.fit_transform(dataset)\n",
    "df = pd.DataFrame(tfIdf[0].T.todense(), index=tfIdfVectorizer.get_feature_names(), columns=[\"TF-IDF\"])\n",
    "df = df.sort_values('TF-IDF', ascending=False)\n",
    "print (df.head(10))"
   ]
  },
  {
   "cell_type": "code",
   "execution_count": null,
   "metadata": {},
   "outputs": [],
   "source": []
  }
 ],
 "metadata": {
  "kernelspec": {
   "display_name": "Python 2",
   "language": "python",
   "name": "python2"
  },
  "language_info": {
   "codemirror_mode": {
    "name": "ipython",
    "version": 2
   },
   "file_extension": ".py",
   "mimetype": "text/x-python",
   "name": "python",
   "nbconvert_exporter": "python",
   "pygments_lexer": "ipython2",
   "version": "2.7.17"
  }
 },
 "nbformat": 4,
 "nbformat_minor": 2
}
