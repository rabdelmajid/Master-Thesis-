{
 "cells": [
  {
   "cell_type": "code",
   "execution_count": 1,
   "metadata": {},
   "outputs": [
    {
     "name": "stdout",
     "output_type": "stream",
     "text": [
      "['glove.6B.50d.txt']\n"
     ]
    }
   ],
   "source": [
    "import numpy as np # linear algebra\n",
    "import pandas as pd # data processing, CSV file I/O (e.g. pd.read_csv)\n",
    "import os\n",
    "print(os.listdir(\"/media/root/par2/glove\"))"
   ]
  },
  {
   "cell_type": "code",
   "execution_count": 2,
   "metadata": {},
   "outputs": [],
   "source": [
    "def read_data(file_name):\n",
    "    with open(file_name,'r') as f:\n",
    "        word_vocab = set() # not using list to avoid duplicate entry\n",
    "        word2vector = {}\n",
    "        for line in f:\n",
    "            line_ = line.strip() #Remove white space\n",
    "            words_Vec = line_.split()\n",
    "            word_vocab.add(words_Vec[0])\n",
    "            word2vector[words_Vec[0]] = np.array(words_Vec[1:],dtype=float)\n",
    "    print(\"Total Words in DataSet:\",len(word_vocab))\n",
    "    return word_vocab,word2vector"
   ]
  },
  {
   "cell_type": "code",
   "execution_count": 3,
   "metadata": {},
   "outputs": [
    {
     "name": "stdout",
     "output_type": "stream",
     "text": [
      "('Total Words in DataSet:', 400000)\n"
     ]
    }
   ],
   "source": [
    "vocab, w2v = read_data(\"/media/root/par2/glove/glove.6B.50d.txt\")"
   ]
  },
  {
   "cell_type": "code",
   "execution_count": 4,
   "metadata": {},
   "outputs": [],
   "source": [
    "def cos_sim(u,v):\n",
    "    \"\"\"\n",
    "    u: vector of 1st word\n",
    "    v: vector of 2nd Word\n",
    "    \"\"\"\n",
    "    numerator_ = u.dot(v)\n",
    "    denominator_= np.sqrt(np.sum(np.square(u))) * np.sqrt(np.sum(np.square(v)))\n",
    "    return numerator_/denominator_"
   ]
  },
  {
   "cell_type": "code",
   "execution_count": 5,
   "metadata": {},
   "outputs": [
    {
     "name": "stdout",
     "output_type": "stream",
     "text": [
      "('Similarity Score of Metadata and XML', 0.7773958302007592)\n",
      "('Similarity Score of Metadata and metadata', 1.0)\n",
      "('Similarity Score of Metadata and simplifying', 0.2725833452679654)\n",
      "('Similarity Score of Metadata and dissemination', 0.5008252920135012)\n",
      "('Similarity Score of Metadata and data', 0.5597053091344892)\n"
     ]
    }
   ],
   "source": [
    "print(\"Similarity Score of Metadata and XML\",cos_sim(w2v['metadata'],w2v['xml']))\n",
    "print(\"Similarity Score of Metadata and metadata\",cos_sim(w2v['metadata'],w2v['metadata']))\n",
    "print(\"Similarity Score of Metadata and simplifying\",cos_sim(w2v['metadata'],w2v['simplifying']))\n",
    "print(\"Similarity Score of Metadata and dissemination\",cos_sim(w2v['metadata'],w2v['dissemination']))\n",
    "print(\"Similarity Score of Metadata and data\",cos_sim(w2v['metadata'],w2v['data']))"
   ]
  },
  {
   "cell_type": "code",
   "execution_count": 6,
   "metadata": {},
   "outputs": [],
   "source": [
    "def return_matrix(random_words,dim =50):\n",
    "    word_matrix = np.random.randn(len(random_words),dim)\n",
    "    i = 0\n",
    "    for word in random_words:\n",
    "        word_matrix[i] = w2v[word]\n",
    "        i +=1\n",
    "    return word_matrix"
   ]
  },
  {
   "cell_type": "code",
   "execution_count": 7,
   "metadata": {},
   "outputs": [],
   "source": [
    "from sklearn.decomposition import PCA\n",
    "import matplotlib.pyplot as plt\n",
    "from pylab import rcParams\n",
    "rcParams['figure.figsize'] = 15, 10"
   ]
  },
  {
   "cell_type": "code",
   "execution_count": 8,
   "metadata": {},
   "outputs": [],
   "source": [
    "random_words = ['metadata','dissemination','simplifying','xml','data']\n",
    "return_matrix_ = return_matrix(random_words)\n",
    "pca_ = PCA(n_components=2)\n",
    "viz_data = pca_.fit_transform(return_matrix_) "
   ]
  },
  {
   "cell_type": "code",
   "execution_count": 9,
   "metadata": {},
   "outputs": [
    {
     "data": {
      "text/plain": [
       "(-5, 6)"
      ]
     },
     "execution_count": 9,
     "metadata": {},
     "output_type": "execute_result"
    },
    {
     "data": {
      "image/png": "[encoded data removed]",
      "text/plain": [
       "<Figure size 432x288 with 1 Axes>"
      ]
     },
     "metadata": {
      "needs_background": "light"
     },
     "output_type": "display_data"
    }
   ],
   "source": [
    "plt.scatter(viz_data[:,0],viz_data[:,1],cmap=plt.get_cmap('Spectral'))\n",
    "for label,x,y in zip(random_words,viz_data[:,0],viz_data[:,1]):\n",
    "    plt.annotate(\n",
    "        label,\n",
    "        xy=(x,y),\n",
    "        xytext=(-14, 14),\n",
    "        textcoords='offset points',\n",
    "        bbox=dict(boxstyle='round,pad=0.5', fc='yellow', alpha=0.5),\n",
    "        arrowprops=dict(arrowstyle = '->', connectionstyle='arc3,rad=0')\n",
    "    )\n",
    "plt.xlabel('PCA Component 1 ')\n",
    "plt.ylabel('PCA Component 2')\n",
    "plt.title('PCA representation for Word Embedding')\n",
    "plt.xlim(-10,10)\n",
    "plt.ylim(-5,6)"
   ]
  },
  {
   "cell_type": "code",
   "execution_count": null,
   "metadata": {},
   "outputs": [],
   "source": []
  }
 ],
 "metadata": {
  "kernelspec": {
   "display_name": "Python 2",
   "language": "python",
   "name": "python2"
  },
  "language_info": {
   "codemirror_mode": {
    "name": "ipython",
    "version": 2
   },
   "file_extension": ".py",
   "mimetype": "text/x-python",
   "name": "python",
   "nbconvert_exporter": "python",
   "pygments_lexer": "ipython2",
   "version": "2.7.17"
  }
 },
 "nbformat": 4,
 "nbformat_minor": 2
}
